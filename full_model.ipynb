{
 "metadata": {
  "language_info": {
   "codemirror_mode": {
    "name": "ipython",
    "version": 3
   },
   "file_extension": ".py",
   "mimetype": "text/x-python",
   "name": "python",
   "nbconvert_exporter": "python",
   "pygments_lexer": "ipython3",
   "version": "3.8.5-final"
  },
  "orig_nbformat": 2,
  "kernelspec": {
   "name": "python3",
   "display_name": "Python 3",
   "language": "python"
  }
 },
 "nbformat": 4,
 "nbformat_minor": 2,
 "cells": [
  {
   "source": [
    "# Data Science Plumbing: Peeking Into Scikit-Learn Pipelines "
   ],
   "cell_type": "markdown",
   "metadata": {}
  },
  {
   "cell_type": "code",
   "execution_count": 1,
   "metadata": {},
   "outputs": [],
   "source": [
    "import pandas as pd\n",
    "import numpy as np\n",
    "from sklearn.preprocessing import StandardScaler, OneHotEncoder\n",
    "from sklearn.preprocessing import OrdinalEncoder\n",
    "from sklearn.compose import ColumnTransformer\n",
    "from sklearn.pipeline import Pipeline\n",
    "from sklearn.impute import SimpleImputer\n",
    "from sklearn.model_selection import train_test_split\n",
    "from sklearn.linear_model import LinearRegression\n",
    "from sklearn.utils import estimator_html_repr\n",
    "from IPython.display import HTML"
   ]
  },
  {
   "cell_type": "code",
   "execution_count": 2,
   "metadata": {},
   "outputs": [],
   "source": [
    "# For Jupyter notebook with Binder\n",
    "# If the imports fail, uncomment the following and install the libaries below\n",
    "\n",
    "# !pip install pandas\n",
    "# !pip install numpy\n",
    "# !pip install scikit-learn\n",
    "# !pip install ipython"
   ]
  },
  {
   "source": [
    "## Obtaining the Data"
   ],
   "cell_type": "markdown",
   "metadata": {}
  },
  {
   "cell_type": "code",
   "execution_count": 3,
   "metadata": {},
   "outputs": [],
   "source": [
    "df = pd.read_csv(\"https://raw.githubusercontent.com/ageron/handson-ml/master/datasets/housing/housing.csv\")\n",
    "df['popbin'] = pd.qcut(df['population'], q=3, labels = ['small', 'medium', 'large'])\n",
    "target = df['median_house_value']\n",
    "features = df.loc[:, ['popbin', 'median_income', 'ocean_proximity']]\n",
    "\n",
    "# Randomly assign 10% of observations to be missing\n",
    "features = features.mask(np.random.random(features.shape) < .1)\n",
    "features.isnull().values.any()\n",
    "\n",
    "X_train, X_test, y_train, y_test = train_test_split(\n",
    "   features,\n",
    "   target,\n",
    "   test_size= 0.2,\n",
    "   random_state= 0)"
   ]
  },
  {
   "source": [
    "## Setting up the Pipeline"
   ],
   "cell_type": "markdown",
   "metadata": {}
  },
  {
   "source": [
    "Create the steps for the transformations."
   ],
   "cell_type": "markdown",
   "metadata": {}
  },
  {
   "cell_type": "code",
   "execution_count": 4,
   "metadata": {},
   "outputs": [],
   "source": [
    "# steps for standardizing the numerical variables\n",
    "num_steps = [\n",
    "    ('imputer', SimpleImputer(strategy='median')),\n",
    "    ('standardize', StandardScaler())\n",
    "]\n",
    "\n",
    "num_transformer = Pipeline(steps=num_steps)\n",
    "\n",
    "# steps for ordinal encoding for the categorical variables\n",
    "ord_steps = [\n",
    "    ('imputer', SimpleImputer(strategy='most_frequent')),\n",
    "    ('encoding', OrdinalEncoder())\n",
    "]\n",
    "\n",
    "ord_transformer = Pipeline(steps=ord_steps)\n",
    "\n",
    "# steps for one hot encoding for the categorical variables\n",
    "ohe_steps = [\n",
    "    ('imputer', SimpleImputer(strategy='constant', fill_value='missing')),\n",
    "    ('encoding', OneHotEncoder(handle_unknown='ignore'))\n",
    "]\n",
    "\n",
    "ohe_transformer = Pipeline(steps=ohe_steps)"
   ]
  },
  {
   "source": [
    "Define the columns for transformation and the order for it with `ColumnTransform()`"
   ],
   "cell_type": "markdown",
   "metadata": {}
  },
  {
   "cell_type": "code",
   "execution_count": 5,
   "metadata": {},
   "outputs": [],
   "source": [
    "# columns to be transformed\n",
    "num_cols = ['median_income']\n",
    "ord_cols = ['popbin']\n",
    "ohe_cols = ['ocean_proximity']\n",
    "\n",
    "# steps for the transformation\n",
    "transformer_steps = [\n",
    "    ('num', num_transformer, num_cols),\n",
    "    ('ord', ord_transformer, ord_cols),\n",
    "    ('ohe', ohe_transformer, ohe_cols)\n",
    "]\n"
   ]
  },
  {
   "source": [
    "Create the final model pipeline."
   ],
   "cell_type": "markdown",
   "metadata": {}
  },
  {
   "cell_type": "code",
   "execution_count": 6,
   "metadata": {},
   "outputs": [],
   "source": [
    "steps = [\n",
    "    ('transformation', ColumnTransformer(transformers=transformer_steps)),\n",
    "    ('linreg', LinearRegression())\n",
    "]\n",
    "\n",
    "pipe = Pipeline(steps=steps)\n",
    "lm = pipe.fit(X_train, y_train)"
   ]
  },
  {
   "source": [
    "## Breaking Into the Pipeline"
   ],
   "cell_type": "markdown",
   "metadata": {}
  },
  {
   "source": [
    "### See All Pipeline Steps"
   ],
   "cell_type": "markdown",
   "metadata": {}
  },
  {
   "source": [
    "The code below outputs all the steps of the fitted pipeline `lm`"
   ],
   "cell_type": "markdown",
   "metadata": {}
  },
  {
   "cell_type": "code",
   "execution_count": 7,
   "metadata": {},
   "outputs": [
    {
     "output_type": "execute_result",
     "data": {
      "text/plain": [
       "[('transformation',\n",
       "  ColumnTransformer(transformers=[('num',\n",
       "                                   Pipeline(steps=[('imputer',\n",
       "                                                    SimpleImputer(strategy='median')),\n",
       "                                                   ('standardize',\n",
       "                                                    StandardScaler())]),\n",
       "                                   ['median_income']),\n",
       "                                  ('ord',\n",
       "                                   Pipeline(steps=[('imputer',\n",
       "                                                    SimpleImputer(strategy='most_frequent')),\n",
       "                                                   ('encoding',\n",
       "                                                    OrdinalEncoder())]),\n",
       "                                   ['popbin']),\n",
       "                                  ('ohe',\n",
       "                                   Pipeline(steps=[('imputer',\n",
       "                                                    SimpleImputer(fill_value='missing',\n",
       "                                                                  strategy='constant')),\n",
       "                                                   ('encoding',\n",
       "                                                    OneHotEncoder(handle_unknown='ignore'))]),\n",
       "                                   ['ocean_proximity'])])),\n",
       " ('linreg', LinearRegression())]"
      ]
     },
     "metadata": {},
     "execution_count": 7
    }
   ],
   "source": [
    "lm.steps"
   ]
  },
  {
   "source": [
    "As an alternative, look at the steps identified in the rendered html below:"
   ],
   "cell_type": "markdown",
   "metadata": {}
  },
  {
   "cell_type": "code",
   "execution_count": 8,
   "metadata": {},
   "outputs": [
    {
     "output_type": "execute_result",
     "data": {
      "text/plain": [
       "<IPython.core.display.HTML object>"
      ],
      "text/html": "<style>div.sk-top-container {color: black;background-color: white;}div.sk-toggleable {background-color: white;}label.sk-toggleable__label {cursor: pointer;display: block;width: 100%;margin-bottom: 0;padding: 0.2em 0.3em;box-sizing: border-box;text-align: center;}div.sk-toggleable__content {max-height: 0;max-width: 0;overflow: hidden;text-align: left;background-color: #f0f8ff;}div.sk-toggleable__content pre {margin: 0.2em;color: black;border-radius: 0.25em;background-color: #f0f8ff;}input.sk-toggleable__control:checked~div.sk-toggleable__content {max-height: 200px;max-width: 100%;overflow: auto;}div.sk-estimator input.sk-toggleable__control:checked~label.sk-toggleable__label {background-color: #d4ebff;}div.sk-label input.sk-toggleable__control:checked~label.sk-toggleable__label {background-color: #d4ebff;}input.sk-hidden--visually {border: 0;clip: rect(1px 1px 1px 1px);clip: rect(1px, 1px, 1px, 1px);height: 1px;margin: -1px;overflow: hidden;padding: 0;position: absolute;width: 1px;}div.sk-estimator {font-family: monospace;background-color: #f0f8ff;margin: 0.25em 0.25em;border: 1px dotted black;border-radius: 0.25em;box-sizing: border-box;}div.sk-estimator:hover {background-color: #d4ebff;}div.sk-parallel-item::after {content: \"\";width: 100%;border-bottom: 1px solid gray;flex-grow: 1;}div.sk-label:hover label.sk-toggleable__label {background-color: #d4ebff;}div.sk-serial::before {content: \"\";position: absolute;border-left: 1px solid gray;box-sizing: border-box;top: 2em;bottom: 0;left: 50%;}div.sk-serial {display: flex;flex-direction: column;align-items: center;background-color: white;}div.sk-item {z-index: 1;}div.sk-parallel {display: flex;align-items: stretch;justify-content: center;background-color: white;}div.sk-parallel-item {display: flex;flex-direction: column;position: relative;background-color: white;}div.sk-parallel-item:first-child::after {align-self: flex-end;width: 50%;}div.sk-parallel-item:last-child::after {align-self: flex-start;width: 50%;}div.sk-parallel-item:only-child::after {width: 0;}div.sk-dashed-wrapped {border: 1px dashed gray;margin: 0.2em;box-sizing: border-box;padding-bottom: 0.1em;background-color: white;position: relative;}div.sk-label label {font-family: monospace;font-weight: bold;background-color: white;display: inline-block;line-height: 1.2em;}div.sk-label-container {position: relative;z-index: 2;text-align: center;}div.sk-container {display: inline-block;position: relative;}</style><div class=\"sk-top-container\"><div class=\"sk-container\"><div class=\"sk-item sk-dashed-wrapped\"><div class=\"sk-label-container\"><div class=\"sk-label sk-toggleable\"><input class=\"sk-toggleable__control sk-hidden--visually\" id=\"07848eba-e646-40ff-b9a0-dcfc84259af2\" type=\"checkbox\" ><label class=\"sk-toggleable__label\" for=\"07848eba-e646-40ff-b9a0-dcfc84259af2\">Pipeline</label><div class=\"sk-toggleable__content\"><pre>Pipeline(steps=[('transformation',\n                 ColumnTransformer(transformers=[('num',\n                                                  Pipeline(steps=[('imputer',\n                                                                   SimpleImputer(strategy='median')),\n                                                                  ('standardize',\n                                                                   StandardScaler())]),\n                                                  ['median_income']),\n                                                 ('ord',\n                                                  Pipeline(steps=[('imputer',\n                                                                   SimpleImputer(strategy='most_frequent')),\n                                                                  ('encoding',\n                                                                   OrdinalEncoder())]),\n                                                  ['popbin']),\n                                                 ('ohe',\n                                                  Pipeline(steps=[('imputer',\n                                                                   SimpleImputer(fill_value='missing',\n                                                                                 strategy='constant')),\n                                                                  ('encoding',\n                                                                   OneHotEncoder(handle_unknown='ignore'))]),\n                                                  ['ocean_proximity'])])),\n                ('linreg', LinearRegression())])</pre></div></div></div><div class=\"sk-serial\"><div class=\"sk-item sk-dashed-wrapped\"><div class=\"sk-label-container\"><div class=\"sk-label sk-toggleable\"><input class=\"sk-toggleable__control sk-hidden--visually\" id=\"06d22760-ad15-4926-adcb-d94434956d51\" type=\"checkbox\" ><label class=\"sk-toggleable__label\" for=\"06d22760-ad15-4926-adcb-d94434956d51\">transformation: ColumnTransformer</label><div class=\"sk-toggleable__content\"><pre>ColumnTransformer(transformers=[('num',\n                                 Pipeline(steps=[('imputer',\n                                                  SimpleImputer(strategy='median')),\n                                                 ('standardize',\n                                                  StandardScaler())]),\n                                 ['median_income']),\n                                ('ord',\n                                 Pipeline(steps=[('imputer',\n                                                  SimpleImputer(strategy='most_frequent')),\n                                                 ('encoding',\n                                                  OrdinalEncoder())]),\n                                 ['popbin']),\n                                ('ohe',\n                                 Pipeline(steps=[('imputer',\n                                                  SimpleImputer(fill_value='missing',\n                                                                strategy='constant')),\n                                                 ('encoding',\n                                                  OneHotEncoder(handle_unknown='ignore'))]),\n                                 ['ocean_proximity'])])</pre></div></div></div><div class=\"sk-parallel\"><div class=\"sk-parallel-item\"><div class=\"sk-item\"><div class=\"sk-label-container\"><div class=\"sk-label sk-toggleable\"><input class=\"sk-toggleable__control sk-hidden--visually\" id=\"956881f9-0251-4266-89bb-2650fbd3f197\" type=\"checkbox\" ><label class=\"sk-toggleable__label\" for=\"956881f9-0251-4266-89bb-2650fbd3f197\">num</label><div class=\"sk-toggleable__content\"><pre>['median_income']</pre></div></div></div><div class=\"sk-serial\"><div class=\"sk-item\"><div class=\"sk-serial\"><div class=\"sk-item\"><div class=\"sk-estimator sk-toggleable\"><input class=\"sk-toggleable__control sk-hidden--visually\" id=\"5b8ec9a6-78d0-468e-8dae-dfb78271990e\" type=\"checkbox\" ><label class=\"sk-toggleable__label\" for=\"5b8ec9a6-78d0-468e-8dae-dfb78271990e\">SimpleImputer</label><div class=\"sk-toggleable__content\"><pre>SimpleImputer(strategy='median')</pre></div></div></div><div class=\"sk-item\"><div class=\"sk-estimator sk-toggleable\"><input class=\"sk-toggleable__control sk-hidden--visually\" id=\"c1bf9efc-b5e8-4fad-8c1a-2b30f9b3f39e\" type=\"checkbox\" ><label class=\"sk-toggleable__label\" for=\"c1bf9efc-b5e8-4fad-8c1a-2b30f9b3f39e\">StandardScaler</label><div class=\"sk-toggleable__content\"><pre>StandardScaler()</pre></div></div></div></div></div></div></div></div><div class=\"sk-parallel-item\"><div class=\"sk-item\"><div class=\"sk-label-container\"><div class=\"sk-label sk-toggleable\"><input class=\"sk-toggleable__control sk-hidden--visually\" id=\"36956eb3-9785-4539-a149-e06792ae3a4d\" type=\"checkbox\" ><label class=\"sk-toggleable__label\" for=\"36956eb3-9785-4539-a149-e06792ae3a4d\">ord</label><div class=\"sk-toggleable__content\"><pre>['popbin']</pre></div></div></div><div class=\"sk-serial\"><div class=\"sk-item\"><div class=\"sk-serial\"><div class=\"sk-item\"><div class=\"sk-estimator sk-toggleable\"><input class=\"sk-toggleable__control sk-hidden--visually\" id=\"3139f802-8699-471a-8b2d-63f38ced9675\" type=\"checkbox\" ><label class=\"sk-toggleable__label\" for=\"3139f802-8699-471a-8b2d-63f38ced9675\">SimpleImputer</label><div class=\"sk-toggleable__content\"><pre>SimpleImputer(strategy='most_frequent')</pre></div></div></div><div class=\"sk-item\"><div class=\"sk-estimator sk-toggleable\"><input class=\"sk-toggleable__control sk-hidden--visually\" id=\"53f45090-372f-448d-a00b-76a0394073fb\" type=\"checkbox\" ><label class=\"sk-toggleable__label\" for=\"53f45090-372f-448d-a00b-76a0394073fb\">OrdinalEncoder</label><div class=\"sk-toggleable__content\"><pre>OrdinalEncoder()</pre></div></div></div></div></div></div></div></div><div class=\"sk-parallel-item\"><div class=\"sk-item\"><div class=\"sk-label-container\"><div class=\"sk-label sk-toggleable\"><input class=\"sk-toggleable__control sk-hidden--visually\" id=\"ebc36fe6-b6a1-43c9-9e7e-3ec75ea59927\" type=\"checkbox\" ><label class=\"sk-toggleable__label\" for=\"ebc36fe6-b6a1-43c9-9e7e-3ec75ea59927\">ohe</label><div class=\"sk-toggleable__content\"><pre>['ocean_proximity']</pre></div></div></div><div class=\"sk-serial\"><div class=\"sk-item\"><div class=\"sk-serial\"><div class=\"sk-item\"><div class=\"sk-estimator sk-toggleable\"><input class=\"sk-toggleable__control sk-hidden--visually\" id=\"9d4ad1bf-a6bf-4cdf-90fc-2bc4a8b70724\" type=\"checkbox\" ><label class=\"sk-toggleable__label\" for=\"9d4ad1bf-a6bf-4cdf-90fc-2bc4a8b70724\">SimpleImputer</label><div class=\"sk-toggleable__content\"><pre>SimpleImputer(fill_value='missing', strategy='constant')</pre></div></div></div><div class=\"sk-item\"><div class=\"sk-estimator sk-toggleable\"><input class=\"sk-toggleable__control sk-hidden--visually\" id=\"2deab064-112b-48f4-bafd-ec8c8f18c21b\" type=\"checkbox\" ><label class=\"sk-toggleable__label\" for=\"2deab064-112b-48f4-bafd-ec8c8f18c21b\">OneHotEncoder</label><div class=\"sk-toggleable__content\"><pre>OneHotEncoder(handle_unknown='ignore')</pre></div></div></div></div></div></div></div></div></div></div><div class=\"sk-item\"><div class=\"sk-estimator sk-toggleable\"><input class=\"sk-toggleable__control sk-hidden--visually\" id=\"07a9f018-0195-4ee4-80c4-945ea7ad1145\" type=\"checkbox\" ><label class=\"sk-toggleable__label\" for=\"07a9f018-0195-4ee4-80c4-945ea7ad1145\">LinearRegression</label><div class=\"sk-toggleable__content\"><pre>LinearRegression()</pre></div></div></div></div></div></div></div>"
     },
     "metadata": {},
     "execution_count": 8
    }
   ],
   "source": [
    "with open('lm_pipe.html', 'w') as f:  \n",
    "    f.write(estimator_html_repr(lm))\n",
    "HTML(filename=\"lm_pipe.html\")"
   ]
  },
  {
   "source": [
    "### Obtain Means/Medians Used For Imputation"
   ],
   "cell_type": "markdown",
   "metadata": {}
  },
  {
   "source": [
    "Access the `SimpleImputer()` from the pipeline.\n",
    "\n",
    "*Note: `median` was selected as the imputation strategy earlier*"
   ],
   "cell_type": "markdown",
   "metadata": {}
  },
  {
   "cell_type": "code",
   "execution_count": 9,
   "metadata": {},
   "outputs": [
    {
     "output_type": "execute_result",
     "data": {
      "text/plain": [
       "SimpleImputer(strategy='median')"
      ]
     },
     "metadata": {},
     "execution_count": 9
    }
   ],
   "source": [
    "lm.named_steps['transformation'].named_transformers_['num']['imputer']"
   ]
  },
  {
   "source": [
    "Once this has been accessed, it is possible to access the imputation statistic like below:"
   ],
   "cell_type": "markdown",
   "metadata": {}
  },
  {
   "cell_type": "code",
   "execution_count": 10,
   "metadata": {},
   "outputs": [
    {
     "output_type": "execute_result",
     "data": {
      "text/plain": [
       "array([3.5481])"
      ]
     },
     "metadata": {},
     "execution_count": 10
    }
   ],
   "source": [
    "lm.named_steps['transformation'].named_transformers_['num']['imputer'].statistics_"
   ]
  },
  {
   "cell_type": "code",
   "execution_count": 11,
   "metadata": {},
   "outputs": [
    {
     "output_type": "execute_result",
     "data": {
      "text/plain": [
       "array(['small'], dtype=object)"
      ]
     },
     "metadata": {},
     "execution_count": 11
    }
   ],
   "source": [
    "lm.named_steps['transformation'].named_transformers_['ord']['imputer'].statistics_"
   ]
  },
  {
   "source": [
    "### Obtain Mean and Variance Used For Standardization"
   ],
   "cell_type": "markdown",
   "metadata": {}
  },
  {
   "source": [
    "Similarly, it's possible to extract the mean and variance during the standardization part of the process."
   ],
   "cell_type": "markdown",
   "metadata": {}
  },
  {
   "cell_type": "code",
   "execution_count": 12,
   "metadata": {},
   "outputs": [
    {
     "output_type": "execute_result",
     "data": {
      "text/plain": [
       "array([3.84507467])"
      ]
     },
     "metadata": {},
     "execution_count": 12
    }
   ],
   "source": [
    "lm.named_steps['transformation'].named_transformers_['num']['standardize'].mean_"
   ]
  },
  {
   "cell_type": "code",
   "execution_count": 13,
   "metadata": {},
   "outputs": [
    {
     "output_type": "execute_result",
     "data": {
      "text/plain": [
       "array([3.28633539])"
      ]
     },
     "metadata": {},
     "execution_count": 13
    }
   ],
   "source": [
    "lm.named_steps['transformation'].named_transformers_['num']['standardize'].var_"
   ]
  },
  {
   "source": [
    "### Extract Feature Names for Numeric and Ordinal Columns"
   ],
   "cell_type": "markdown",
   "metadata": {}
  },
  {
   "cell_type": "code",
   "execution_count": 14,
   "metadata": {},
   "outputs": [
    {
     "output_type": "execute_result",
     "data": {
      "text/plain": [
       "[('num',\n",
       "  Pipeline(steps=[('imputer', SimpleImputer(strategy='median')),\n",
       "                  ('standardize', StandardScaler())]),\n",
       "  ['median_income']),\n",
       " ('ord',\n",
       "  Pipeline(steps=[('imputer', SimpleImputer(strategy='most_frequent')),\n",
       "                  ('encoding', OrdinalEncoder())]),\n",
       "  ['popbin']),\n",
       " ('ohe',\n",
       "  Pipeline(steps=[('imputer',\n",
       "                   SimpleImputer(fill_value='missing', strategy='constant')),\n",
       "                  ('encoding', OneHotEncoder(handle_unknown='ignore'))]),\n",
       "  ['ocean_proximity'])]"
      ]
     },
     "metadata": {},
     "execution_count": 14
    }
   ],
   "source": [
    "lm.named_steps['transformation'].transformers_"
   ]
  },
  {
   "source": [
    "For numerical variables:"
   ],
   "cell_type": "markdown",
   "metadata": {}
  },
  {
   "cell_type": "code",
   "execution_count": 15,
   "metadata": {},
   "outputs": [
    {
     "output_type": "execute_result",
     "data": {
      "text/plain": [
       "['median_income']"
      ]
     },
     "metadata": {},
     "execution_count": 15
    }
   ],
   "source": [
    "lm.named_steps['transformation'].transformers_[0][2]"
   ]
  },
  {
   "source": [
    "Similarly, for ordinal variables:  "
   ],
   "cell_type": "markdown",
   "metadata": {}
  },
  {
   "cell_type": "code",
   "execution_count": 16,
   "metadata": {},
   "outputs": [
    {
     "output_type": "execute_result",
     "data": {
      "text/plain": [
       "['popbin']"
      ]
     },
     "metadata": {},
     "execution_count": 16
    }
   ],
   "source": [
    "lm.named_steps['transformation'].transformers_[1][2]"
   ]
  },
  {
   "source": [
    "### Extract Feature Names for One Hot Encoded Columns"
   ],
   "cell_type": "markdown",
   "metadata": {}
  },
  {
   "source": [
    "First extract the step that does the one hot encoding:"
   ],
   "cell_type": "markdown",
   "metadata": {}
  },
  {
   "cell_type": "code",
   "execution_count": 17,
   "metadata": {},
   "outputs": [
    {
     "output_type": "execute_result",
     "data": {
      "text/plain": [
       "OneHotEncoder(handle_unknown='ignore')"
      ]
     },
     "metadata": {},
     "execution_count": 17
    }
   ],
   "source": [
    "lm.named_steps['transformation'].transformers_[2][1].named_steps['encoding']"
   ]
  },
  {
   "source": [
    "Now it's possible to extract the extra created columns with one hot encoding:"
   ],
   "cell_type": "markdown",
   "metadata": {}
  },
  {
   "cell_type": "code",
   "execution_count": 18,
   "metadata": {},
   "outputs": [
    {
     "output_type": "execute_result",
     "data": {
      "text/plain": [
       "array(['x0_<1H OCEAN', 'x0_INLAND', 'x0_ISLAND', 'x0_NEAR BAY',\n",
       "       'x0_NEAR OCEAN', 'x0_missing'], dtype=object)"
      ]
     },
     "metadata": {},
     "execution_count": 18
    }
   ],
   "source": [
    "lm.named_steps['transformation'].transformers_[2][1].named_steps['encoding'].get_feature_names()"
   ]
  },
  {
   "source": [
    "To make the column names more descriptive:"
   ],
   "cell_type": "markdown",
   "metadata": {}
  },
  {
   "cell_type": "code",
   "execution_count": 19,
   "metadata": {},
   "outputs": [
    {
     "output_type": "execute_result",
     "data": {
      "text/plain": [
       "array(['ocean_proximity_<1H OCEAN', 'ocean_proximity_INLAND',\n",
       "       'ocean_proximity_ISLAND', 'ocean_proximity_NEAR BAY',\n",
       "       'ocean_proximity_NEAR OCEAN', 'ocean_proximity_missing'],\n",
       "      dtype=object)"
      ]
     },
     "metadata": {},
     "execution_count": 19
    }
   ],
   "source": [
    "lm.named_steps['transformation'].transformers_[2][1].named_steps['encoding'].get_feature_names(ohe_cols)"
   ]
  },
  {
   "source": [
    "### See Coefficients from a Regression Model"
   ],
   "cell_type": "markdown",
   "metadata": {}
  },
  {
   "source": [
    "Extract the model from the pipeline:"
   ],
   "cell_type": "markdown",
   "metadata": {}
  },
  {
   "cell_type": "code",
   "execution_count": 20,
   "metadata": {},
   "outputs": [
    {
     "output_type": "execute_result",
     "data": {
      "text/plain": [
       "LinearRegression()"
      ]
     },
     "metadata": {},
     "execution_count": 20
    }
   ],
   "source": [
    "lm.named_steps['linreg']"
   ]
  },
  {
   "source": [
    "Finally, the code below extracts the coeffients that the model used:"
   ],
   "cell_type": "markdown",
   "metadata": {}
  },
  {
   "cell_type": "code",
   "execution_count": 21,
   "metadata": {},
   "outputs": [
    {
     "output_type": "execute_result",
     "data": {
      "text/plain": [
       "array([  67500.35145838,    4099.03711046,  -20896.98599474,\n",
       "       -102046.16223437,  173664.20500333,   -2201.04941408,\n",
       "         -6156.4249682 ,  -42363.58239194])"
      ]
     },
     "metadata": {},
     "execution_count": 21
    }
   ],
   "source": [
    "lm.named_steps['linreg'].coef_"
   ]
  }
 ]
}