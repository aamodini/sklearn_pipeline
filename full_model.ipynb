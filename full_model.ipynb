{
 "metadata": {
  "language_info": {
   "codemirror_mode": {
    "name": "ipython",
    "version": 3
   },
   "file_extension": ".py",
   "mimetype": "text/x-python",
   "name": "python",
   "nbconvert_exporter": "python",
   "pygments_lexer": "ipython3",
   "version": "3.8.5-final"
  },
  "orig_nbformat": 2,
  "kernelspec": {
   "name": "python3",
   "display_name": "Python 3",
   "language": "python"
  }
 },
 "nbformat": 4,
 "nbformat_minor": 2,
 "cells": [
  {
   "source": [
    "# Data Science Plumbing: Peeking Into Scikit-Learn Pipelines "
   ],
   "cell_type": "markdown",
   "metadata": {}
  },
  {
   "cell_type": "code",
   "execution_count": 1,
   "metadata": {},
   "outputs": [],
   "source": [
    "import pandas as pd\n",
    "import numpy as np\n",
    "from sklearn.preprocessing import StandardScaler, OneHotEncoder\n",
    "from sklearn.preprocessing import OrdinalEncoder\n",
    "from sklearn.compose import ColumnTransformer\n",
    "from sklearn.pipeline import Pipeline\n",
    "from sklearn.impute import SimpleImputer\n",
    "from sklearn.model_selection import train_test_split\n",
    "from sklearn.linear_model import LinearRegression\n",
    "from sklearn.utils import estimator_html_repr\n",
    "from IPython.display import HTML"
   ]
  },
  {
   "source": [
    "## Obtaining the Data"
   ],
   "cell_type": "markdown",
   "metadata": {}
  },
  {
   "cell_type": "code",
   "execution_count": 2,
   "metadata": {},
   "outputs": [],
   "source": [
    "df = pd.read_csv(\"https://raw.githubusercontent.com/ageron/handson-ml/master/datasets/housing/housing.csv\")\n",
    "df['popbin'] = pd.qcut(df['population'], q=3, labels = ['low', 'medium', 'large'])\n",
    "target = df['median_house_value']\n",
    "features = df.loc[:, ['popbin', 'median_income', 'ocean_proximity']]\n",
    "\n",
    "# Randomly assign 10% of observations to be missing\n",
    "features = features.mask(np.random.random(features.shape) < .1)\n",
    "features.isnull().values.any()\n",
    "\n",
    "X_train, X_test, y_train, y_test = train_test_split(\n",
    "   features,\n",
    "   target,\n",
    "   test_size= 0.2,\n",
    "   random_state= 0)"
   ]
  },
  {
   "source": [
    "## Setting up the Pipeline"
   ],
   "cell_type": "markdown",
   "metadata": {}
  },
  {
   "source": [
    "Create the steps for the transformations."
   ],
   "cell_type": "markdown",
   "metadata": {}
  },
  {
   "cell_type": "code",
   "execution_count": 3,
   "metadata": {},
   "outputs": [],
   "source": [
    "# steps for standardizing the numerical variables\n",
    "num_steps = [\n",
    "    ('imputer', SimpleImputer(strategy='median')),\n",
    "    ('standardize', StandardScaler())\n",
    "]\n",
    "\n",
    "num_transformer = Pipeline(steps=num_steps)\n",
    "\n",
    "# steps for ordinal encoding for the categorical variables\n",
    "ord_steps = [\n",
    "    ('imputer', SimpleImputer(strategy='most_frequent')),\n",
    "    ('encoding', OrdinalEncoder())\n",
    "]\n",
    "\n",
    "ord_transformer = Pipeline(steps=ord_steps)\n",
    "\n",
    "# steps for one hot encoding for the categorical variables\n",
    "ohe_steps = [\n",
    "    ('imputer', SimpleImputer(strategy='constant', fill_value='missing')),\n",
    "    ('encoding', OneHotEncoder(handle_unknown='ignore'))\n",
    "]\n",
    "\n",
    "ohe_transformer = Pipeline(steps=ohe_steps)"
   ]
  },
  {
   "source": [
    "Define the columns for transformation and the order for it with `ColumnTransform()`"
   ],
   "cell_type": "markdown",
   "metadata": {}
  },
  {
   "cell_type": "code",
   "execution_count": 4,
   "metadata": {},
   "outputs": [],
   "source": [
    "# columns to be transformed\n",
    "num_cols = ['median_income']\n",
    "ord_cols = ['popbin']\n",
    "ohe_cols = ['ocean_proximity']\n",
    "\n",
    "# steps for the transformation\n",
    "transformer_steps = [\n",
    "    ('num', num_transformer, num_cols),\n",
    "    ('ord', ord_transformer, ord_cols),\n",
    "    ('ohe', ohe_transformer, ohe_cols)\n",
    "]\n"
   ]
  },
  {
   "source": [
    "Create the final model pipeline."
   ],
   "cell_type": "markdown",
   "metadata": {}
  },
  {
   "cell_type": "code",
   "execution_count": 5,
   "metadata": {},
   "outputs": [],
   "source": [
    "steps = [\n",
    "    ('transformation', ColumnTransformer(transformers=transformer_steps)),\n",
    "    ('linreg', LinearRegression())\n",
    "]\n",
    "\n",
    "pipe = Pipeline(steps=steps)\n",
    "lm = pipe.fit(X_train, y_train)"
   ]
  },
  {
   "source": [
    "## Breaking Into the Pipeline"
   ],
   "cell_type": "markdown",
   "metadata": {}
  },
  {
   "source": [
    "### See All Pipeline Steps"
   ],
   "cell_type": "markdown",
   "metadata": {}
  },
  {
   "source": [
    "The code below outputs all the steps of the fitted pipeline `lm`"
   ],
   "cell_type": "markdown",
   "metadata": {}
  },
  {
   "cell_type": "code",
   "execution_count": 6,
   "metadata": {},
   "outputs": [
    {
     "output_type": "execute_result",
     "data": {
      "text/plain": [
       "[('transformation',\n",
       "  ColumnTransformer(transformers=[('num',\n",
       "                                   Pipeline(steps=[('imputer',\n",
       "                                                    SimpleImputer(strategy='median')),\n",
       "                                                   ('standardize',\n",
       "                                                    StandardScaler())]),\n",
       "                                   ['median_income']),\n",
       "                                  ('ord',\n",
       "                                   Pipeline(steps=[('imputer',\n",
       "                                                    SimpleImputer(strategy='most_frequent')),\n",
       "                                                   ('encoding',\n",
       "                                                    OrdinalEncoder())]),\n",
       "                                   ['popbin']),\n",
       "                                  ('ohe',\n",
       "                                   Pipeline(steps=[('imputer',\n",
       "                                                    SimpleImputer(fill_value='missing',\n",
       "                                                                  strategy='constant')),\n",
       "                                                   ('encoding',\n",
       "                                                    OneHotEncoder(handle_unknown='ignore'))]),\n",
       "                                   ['ocean_proximity'])])),\n",
       " ('linreg', LinearRegression())]"
      ]
     },
     "metadata": {},
     "execution_count": 6
    }
   ],
   "source": [
    "lm.steps"
   ]
  },
  {
   "source": [
    "As an alternative, look at the steps identified in the rendered html below:"
   ],
   "cell_type": "markdown",
   "metadata": {}
  },
  {
   "cell_type": "code",
   "execution_count": 30,
   "metadata": {},
   "outputs": [
    {
     "output_type": "execute_result",
     "data": {
      "text/plain": [
       "<IPython.core.display.HTML object>"
      ],
      "text/html": "<style>div.sk-top-container {color: black;background-color: white;}div.sk-toggleable {background-color: white;}label.sk-toggleable__label {cursor: pointer;display: block;width: 100%;margin-bottom: 0;padding: 0.2em 0.3em;box-sizing: border-box;text-align: center;}div.sk-toggleable__content {max-height: 0;max-width: 0;overflow: hidden;text-align: left;background-color: #f0f8ff;}div.sk-toggleable__content pre {margin: 0.2em;color: black;border-radius: 0.25em;background-color: #f0f8ff;}input.sk-toggleable__control:checked~div.sk-toggleable__content {max-height: 200px;max-width: 100%;overflow: auto;}div.sk-estimator input.sk-toggleable__control:checked~label.sk-toggleable__label {background-color: #d4ebff;}div.sk-label input.sk-toggleable__control:checked~label.sk-toggleable__label {background-color: #d4ebff;}input.sk-hidden--visually {border: 0;clip: rect(1px 1px 1px 1px);clip: rect(1px, 1px, 1px, 1px);height: 1px;margin: -1px;overflow: hidden;padding: 0;position: absolute;width: 1px;}div.sk-estimator {font-family: monospace;background-color: #f0f8ff;margin: 0.25em 0.25em;border: 1px dotted black;border-radius: 0.25em;box-sizing: border-box;}div.sk-estimator:hover {background-color: #d4ebff;}div.sk-parallel-item::after {content: \"\";width: 100%;border-bottom: 1px solid gray;flex-grow: 1;}div.sk-label:hover label.sk-toggleable__label {background-color: #d4ebff;}div.sk-serial::before {content: \"\";position: absolute;border-left: 1px solid gray;box-sizing: border-box;top: 2em;bottom: 0;left: 50%;}div.sk-serial {display: flex;flex-direction: column;align-items: center;background-color: white;}div.sk-item {z-index: 1;}div.sk-parallel {display: flex;align-items: stretch;justify-content: center;background-color: white;}div.sk-parallel-item {display: flex;flex-direction: column;position: relative;background-color: white;}div.sk-parallel-item:first-child::after {align-self: flex-end;width: 50%;}div.sk-parallel-item:last-child::after {align-self: flex-start;width: 50%;}div.sk-parallel-item:only-child::after {width: 0;}div.sk-dashed-wrapped {border: 1px dashed gray;margin: 0.2em;box-sizing: border-box;padding-bottom: 0.1em;background-color: white;position: relative;}div.sk-label label {font-family: monospace;font-weight: bold;background-color: white;display: inline-block;line-height: 1.2em;}div.sk-label-container {position: relative;z-index: 2;text-align: center;}div.sk-container {display: inline-block;position: relative;}</style><div class=\"sk-top-container\"><div class=\"sk-container\"><div class=\"sk-item sk-dashed-wrapped\"><div class=\"sk-label-container\"><div class=\"sk-label sk-toggleable\"><input class=\"sk-toggleable__control sk-hidden--visually\" id=\"34fd2146-b1ac-4693-9281-37355fa3c0cf\" type=\"checkbox\" ><label class=\"sk-toggleable__label\" for=\"34fd2146-b1ac-4693-9281-37355fa3c0cf\">Pipeline</label><div class=\"sk-toggleable__content\"><pre>Pipeline(steps=[('transformation',\n                 ColumnTransformer(transformers=[('num',\n                                                  Pipeline(steps=[('imputer',\n                                                                   SimpleImputer(strategy='median')),\n                                                                  ('standardize',\n                                                                   StandardScaler())]),\n                                                  ['median_income']),\n                                                 ('ord',\n                                                  Pipeline(steps=[('imputer',\n                                                                   SimpleImputer(strategy='most_frequent')),\n                                                                  ('encoding',\n                                                                   OrdinalEncoder())]),\n                                                  ['popbin']),\n                                                 ('ohe',\n                                                  Pipeline(steps=[('imputer',\n                                                                   SimpleImputer(fill_value='missing',\n                                                                                 strategy='constant')),\n                                                                  ('encoding',\n                                                                   OneHotEncoder(handle_unknown='ignore'))]),\n                                                  ['ocean_proximity'])])),\n                ('linreg', LinearRegression())])</pre></div></div></div><div class=\"sk-serial\"><div class=\"sk-item sk-dashed-wrapped\"><div class=\"sk-label-container\"><div class=\"sk-label sk-toggleable\"><input class=\"sk-toggleable__control sk-hidden--visually\" id=\"41d31fb1-9933-427c-999c-7e7354b5008f\" type=\"checkbox\" ><label class=\"sk-toggleable__label\" for=\"41d31fb1-9933-427c-999c-7e7354b5008f\">transformation: ColumnTransformer</label><div class=\"sk-toggleable__content\"><pre>ColumnTransformer(transformers=[('num',\n                                 Pipeline(steps=[('imputer',\n                                                  SimpleImputer(strategy='median')),\n                                                 ('standardize',\n                                                  StandardScaler())]),\n                                 ['median_income']),\n                                ('ord',\n                                 Pipeline(steps=[('imputer',\n                                                  SimpleImputer(strategy='most_frequent')),\n                                                 ('encoding',\n                                                  OrdinalEncoder())]),\n                                 ['popbin']),\n                                ('ohe',\n                                 Pipeline(steps=[('imputer',\n                                                  SimpleImputer(fill_value='missing',\n                                                                strategy='constant')),\n                                                 ('encoding',\n                                                  OneHotEncoder(handle_unknown='ignore'))]),\n                                 ['ocean_proximity'])])</pre></div></div></div><div class=\"sk-parallel\"><div class=\"sk-parallel-item\"><div class=\"sk-item\"><div class=\"sk-label-container\"><div class=\"sk-label sk-toggleable\"><input class=\"sk-toggleable__control sk-hidden--visually\" id=\"e0431e27-5b60-473a-b353-445b53791e66\" type=\"checkbox\" ><label class=\"sk-toggleable__label\" for=\"e0431e27-5b60-473a-b353-445b53791e66\">num</label><div class=\"sk-toggleable__content\"><pre>['median_income']</pre></div></div></div><div class=\"sk-serial\"><div class=\"sk-item\"><div class=\"sk-serial\"><div class=\"sk-item\"><div class=\"sk-estimator sk-toggleable\"><input class=\"sk-toggleable__control sk-hidden--visually\" id=\"db421cd6-8718-45ac-a210-22669cf6d197\" type=\"checkbox\" ><label class=\"sk-toggleable__label\" for=\"db421cd6-8718-45ac-a210-22669cf6d197\">SimpleImputer</label><div class=\"sk-toggleable__content\"><pre>SimpleImputer(strategy='median')</pre></div></div></div><div class=\"sk-item\"><div class=\"sk-estimator sk-toggleable\"><input class=\"sk-toggleable__control sk-hidden--visually\" id=\"0196555c-970c-40d7-a7f1-da5701e2fc54\" type=\"checkbox\" ><label class=\"sk-toggleable__label\" for=\"0196555c-970c-40d7-a7f1-da5701e2fc54\">StandardScaler</label><div class=\"sk-toggleable__content\"><pre>StandardScaler()</pre></div></div></div></div></div></div></div></div><div class=\"sk-parallel-item\"><div class=\"sk-item\"><div class=\"sk-label-container\"><div class=\"sk-label sk-toggleable\"><input class=\"sk-toggleable__control sk-hidden--visually\" id=\"ea026771-ec76-4b29-a1b2-8712f0e282e5\" type=\"checkbox\" ><label class=\"sk-toggleable__label\" for=\"ea026771-ec76-4b29-a1b2-8712f0e282e5\">ord</label><div class=\"sk-toggleable__content\"><pre>['popbin']</pre></div></div></div><div class=\"sk-serial\"><div class=\"sk-item\"><div class=\"sk-serial\"><div class=\"sk-item\"><div class=\"sk-estimator sk-toggleable\"><input class=\"sk-toggleable__control sk-hidden--visually\" id=\"2633ac6b-3a76-4e29-b8a0-65cedda0a531\" type=\"checkbox\" ><label class=\"sk-toggleable__label\" for=\"2633ac6b-3a76-4e29-b8a0-65cedda0a531\">SimpleImputer</label><div class=\"sk-toggleable__content\"><pre>SimpleImputer(strategy='most_frequent')</pre></div></div></div><div class=\"sk-item\"><div class=\"sk-estimator sk-toggleable\"><input class=\"sk-toggleable__control sk-hidden--visually\" id=\"82c5ae95-13e9-4a19-ba2f-b575a077160c\" type=\"checkbox\" ><label class=\"sk-toggleable__label\" for=\"82c5ae95-13e9-4a19-ba2f-b575a077160c\">OrdinalEncoder</label><div class=\"sk-toggleable__content\"><pre>OrdinalEncoder()</pre></div></div></div></div></div></div></div></div><div class=\"sk-parallel-item\"><div class=\"sk-item\"><div class=\"sk-label-container\"><div class=\"sk-label sk-toggleable\"><input class=\"sk-toggleable__control sk-hidden--visually\" id=\"0ac64a41-2939-4f3c-b98e-3e5203b69d04\" type=\"checkbox\" ><label class=\"sk-toggleable__label\" for=\"0ac64a41-2939-4f3c-b98e-3e5203b69d04\">ohe</label><div class=\"sk-toggleable__content\"><pre>['ocean_proximity']</pre></div></div></div><div class=\"sk-serial\"><div class=\"sk-item\"><div class=\"sk-serial\"><div class=\"sk-item\"><div class=\"sk-estimator sk-toggleable\"><input class=\"sk-toggleable__control sk-hidden--visually\" id=\"6a26d31a-7e36-4239-8312-6a5c19669d41\" type=\"checkbox\" ><label class=\"sk-toggleable__label\" for=\"6a26d31a-7e36-4239-8312-6a5c19669d41\">SimpleImputer</label><div class=\"sk-toggleable__content\"><pre>SimpleImputer(fill_value='missing', strategy='constant')</pre></div></div></div><div class=\"sk-item\"><div class=\"sk-estimator sk-toggleable\"><input class=\"sk-toggleable__control sk-hidden--visually\" id=\"0932675b-d201-464a-9b76-1a7ed6648bf7\" type=\"checkbox\" ><label class=\"sk-toggleable__label\" for=\"0932675b-d201-464a-9b76-1a7ed6648bf7\">OneHotEncoder</label><div class=\"sk-toggleable__content\"><pre>OneHotEncoder(handle_unknown='ignore')</pre></div></div></div></div></div></div></div></div></div></div><div class=\"sk-item\"><div class=\"sk-estimator sk-toggleable\"><input class=\"sk-toggleable__control sk-hidden--visually\" id=\"8a0a0302-b8aa-464c-a389-e60d283d8606\" type=\"checkbox\" ><label class=\"sk-toggleable__label\" for=\"8a0a0302-b8aa-464c-a389-e60d283d8606\">LinearRegression</label><div class=\"sk-toggleable__content\"><pre>LinearRegression()</pre></div></div></div></div></div></div></div>"
     },
     "metadata": {},
     "execution_count": 30
    }
   ],
   "source": [
    "with open('lm_pipe.html', 'w') as f:  \n",
    "    f.write(estimator_html_repr(lm))\n",
    "HTML(filename=\"lm_pipe.html\")"
   ]
  },
  {
   "source": [
    "### Obtain Means/Medians Used For Imputation"
   ],
   "cell_type": "markdown",
   "metadata": {}
  },
  {
   "source": [
    "Access the `SimpleImputer()` from the pipeline.\n",
    "\n",
    "*Note: `median` was selected as the imputation strategy earlier*"
   ],
   "cell_type": "markdown",
   "metadata": {}
  },
  {
   "cell_type": "code",
   "execution_count": 21,
   "metadata": {},
   "outputs": [
    {
     "output_type": "execute_result",
     "data": {
      "text/plain": [
       "SimpleImputer(strategy='median')"
      ]
     },
     "metadata": {},
     "execution_count": 21
    }
   ],
   "source": [
    "lm.named_steps['transformation'].named_transformers_['num']['imputer']"
   ]
  },
  {
   "source": [
    "Once this has been accessed, it is possible to access the imputation statistic like below:"
   ],
   "cell_type": "markdown",
   "metadata": {}
  },
  {
   "cell_type": "code",
   "execution_count": 22,
   "metadata": {},
   "outputs": [
    {
     "output_type": "execute_result",
     "data": {
      "text/plain": [
       "array([3.5464])"
      ]
     },
     "metadata": {},
     "execution_count": 22
    }
   ],
   "source": [
    "lm.named_steps['transformation'].named_transformers_['num']['imputer'].statistics_"
   ]
  },
  {
   "source": [
    "### Obtain Mean and Variance Used For Standardization"
   ],
   "cell_type": "markdown",
   "metadata": {}
  },
  {
   "source": [
    "Similarly, it's possible to extract the mean and variance during the standardization part of the process."
   ],
   "cell_type": "markdown",
   "metadata": {}
  },
  {
   "cell_type": "code",
   "execution_count": 10,
   "metadata": {},
   "outputs": [
    {
     "output_type": "execute_result",
     "data": {
      "text/plain": [
       "array([3.84115438])"
      ]
     },
     "metadata": {},
     "execution_count": 10
    }
   ],
   "source": [
    "lm.named_steps['transformation'].named_transformers_['num']['standardize'].mean_"
   ]
  },
  {
   "cell_type": "code",
   "execution_count": 11,
   "metadata": {},
   "outputs": [
    {
     "output_type": "execute_result",
     "data": {
      "text/plain": [
       "array([3.27408835])"
      ]
     },
     "metadata": {},
     "execution_count": 11
    }
   ],
   "source": [
    "lm.named_steps['transformation'].named_transformers_['num']['standardize'].var_"
   ]
  },
  {
   "source": [
    "### Extract Feature Names for Numeric and Ordinal Columns"
   ],
   "cell_type": "markdown",
   "metadata": {}
  },
  {
   "cell_type": "code",
   "execution_count": 20,
   "metadata": {},
   "outputs": [
    {
     "output_type": "execute_result",
     "data": {
      "text/plain": [
       "[('num',\n",
       "  Pipeline(steps=[('imputer', SimpleImputer(strategy='median')),\n",
       "                  ('standardize', StandardScaler())]),\n",
       "  ['median_income']),\n",
       " ('ord',\n",
       "  Pipeline(steps=[('imputer', SimpleImputer(strategy='most_frequent')),\n",
       "                  ('encoding', OrdinalEncoder())]),\n",
       "  ['popbin']),\n",
       " ('ohe',\n",
       "  Pipeline(steps=[('imputer',\n",
       "                   SimpleImputer(fill_value='missing', strategy='constant')),\n",
       "                  ('encoding', OneHotEncoder(handle_unknown='ignore'))]),\n",
       "  ['ocean_proximity'])]"
      ]
     },
     "metadata": {},
     "execution_count": 20
    }
   ],
   "source": [
    "lm.named_steps['transformation'].transformers_"
   ]
  },
  {
   "source": [
    "For numerical variables:"
   ],
   "cell_type": "markdown",
   "metadata": {}
  },
  {
   "cell_type": "code",
   "execution_count": 23,
   "metadata": {},
   "outputs": [
    {
     "output_type": "execute_result",
     "data": {
      "text/plain": [
       "['median_income']"
      ]
     },
     "metadata": {},
     "execution_count": 23
    }
   ],
   "source": [
    "lm.named_steps['transformation'].transformers_[0][2]"
   ]
  },
  {
   "source": [
    "Similarly, for ordinal variables:  "
   ],
   "cell_type": "markdown",
   "metadata": {}
  },
  {
   "cell_type": "code",
   "execution_count": 24,
   "metadata": {},
   "outputs": [
    {
     "output_type": "execute_result",
     "data": {
      "text/plain": [
       "['popbin']"
      ]
     },
     "metadata": {},
     "execution_count": 24
    }
   ],
   "source": [
    "lm.named_steps['transformation'].transformers_[1][2]"
   ]
  },
  {
   "source": [
    "### Extract Feature Names for One Hot Encoded Columns"
   ],
   "cell_type": "markdown",
   "metadata": {}
  },
  {
   "source": [
    "First extract the step that does the one hot encoding:"
   ],
   "cell_type": "markdown",
   "metadata": {}
  },
  {
   "cell_type": "code",
   "execution_count": 25,
   "metadata": {},
   "outputs": [
    {
     "output_type": "execute_result",
     "data": {
      "text/plain": [
       "OneHotEncoder(handle_unknown='ignore')"
      ]
     },
     "metadata": {},
     "execution_count": 25
    }
   ],
   "source": [
    "lm.named_steps['transformation'].transformers_[2][1].named_steps['encoding']"
   ]
  },
  {
   "source": [
    "Now it's possible to extract the extra created columns with one hot encoding:"
   ],
   "cell_type": "markdown",
   "metadata": {}
  },
  {
   "cell_type": "code",
   "execution_count": 26,
   "metadata": {},
   "outputs": [
    {
     "output_type": "execute_result",
     "data": {
      "text/plain": [
       "array(['x0_<1H OCEAN', 'x0_INLAND', 'x0_ISLAND', 'x0_NEAR BAY',\n",
       "       'x0_NEAR OCEAN', 'x0_missing'], dtype=object)"
      ]
     },
     "metadata": {},
     "execution_count": 26
    }
   ],
   "source": [
    "lm.named_steps['transformation'].transformers_[2][1].named_steps['encoding'].get_feature_names()"
   ]
  },
  {
   "source": [
    "To make the column names more descriptive:"
   ],
   "cell_type": "markdown",
   "metadata": {}
  },
  {
   "cell_type": "code",
   "execution_count": 27,
   "metadata": {},
   "outputs": [
    {
     "output_type": "execute_result",
     "data": {
      "text/plain": [
       "array(['ocean_proximity_<1H OCEAN', 'ocean_proximity_INLAND',\n",
       "       'ocean_proximity_ISLAND', 'ocean_proximity_NEAR BAY',\n",
       "       'ocean_proximity_NEAR OCEAN', 'ocean_proximity_missing'],\n",
       "      dtype=object)"
      ]
     },
     "metadata": {},
     "execution_count": 27
    }
   ],
   "source": [
    "lm.named_steps['transformation'].transformers_[2][1].named_steps['encoding'].get_feature_names(ohe_cols)"
   ]
  },
  {
   "source": [
    "### See Coefficients from a Regression Model"
   ],
   "cell_type": "markdown",
   "metadata": {}
  },
  {
   "source": [
    "Extract the model from the pipeline:"
   ],
   "cell_type": "markdown",
   "metadata": {}
  },
  {
   "cell_type": "code",
   "execution_count": 28,
   "metadata": {},
   "outputs": [
    {
     "output_type": "execute_result",
     "data": {
      "text/plain": [
       "LinearRegression()"
      ]
     },
     "metadata": {},
     "execution_count": 28
    }
   ],
   "source": [
    "lm.named_steps['linreg']"
   ]
  },
  {
   "source": [
    "Finally, the code below extracts the coeffients that the model used:"
   ],
   "cell_type": "markdown",
   "metadata": {}
  },
  {
   "cell_type": "code",
   "execution_count": 29,
   "metadata": {},
   "outputs": [
    {
     "output_type": "execute_result",
     "data": {
      "text/plain": [
       "array([  67580.13427954,    1728.09858094,  -21651.86773221,\n",
       "       -102920.30145953,  175491.79207627,   -2206.88175816,\n",
       "         -5063.7400736 ,  -43649.00105277])"
      ]
     },
     "metadata": {},
     "execution_count": 29
    }
   ],
   "source": [
    "lm.named_steps['linreg'].coef_"
   ]
  }
 ]
}